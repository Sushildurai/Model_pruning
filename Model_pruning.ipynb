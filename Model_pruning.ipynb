{
  "nbformat": 4,
  "nbformat_minor": 0,
  "metadata": {
    "colab": {
      "name": "Model pruning.ipynb",
      "provenance": []
    },
    "kernelspec": {
      "name": "python3",
      "display_name": "Python 3"
    },
    "accelerator": "GPU"
  },
  "cells": [
    {
      "cell_type": "code",
      "metadata": {
        "id": "aNQLPxZbmsIO",
        "colab_type": "code",
        "colab": {}
      },
      "source": [
        "import tensorflow as tf"
      ],
      "execution_count": 1,
      "outputs": []
    },
    {
      "cell_type": "code",
      "metadata": {
        "id": "MUu_PuVGmweW",
        "colab_type": "code",
        "colab": {}
      },
      "source": [
        "from tensorflow import keras\n",
        "import numpy as np\n",
        "import os\n",
        "import zipfile\n",
        "import tempfile"
      ],
      "execution_count": 68,
      "outputs": []
    },
    {
      "cell_type": "code",
      "metadata": {
        "id": "g7etm3ogmirK",
        "colab_type": "code",
        "colab": {
          "base_uri": "https://localhost:8080/",
          "height": 52
        },
        "outputId": "bb31e129-cb3a-4c0e-ec62-290e5cc753e7"
      },
      "source": [
        "mnist = keras.datasets.mnist\n",
        "(train_images, train_labels), (test_images, test_labels) = mnist.load_data()"
      ],
      "execution_count": 3,
      "outputs": [
        {
          "output_type": "stream",
          "text": [
            "Downloading data from https://storage.googleapis.com/tensorflow/tf-keras-datasets/mnist.npz\n",
            "11493376/11490434 [==============================] - 0s 0us/step\n"
          ],
          "name": "stdout"
        }
      ]
    },
    {
      "cell_type": "code",
      "metadata": {
        "id": "Dq8TZRvbm5n9",
        "colab_type": "code",
        "colab": {}
      },
      "source": [
        "train_images = train_images / 255.0\n",
        "test_images = test_images / 255.0"
      ],
      "execution_count": 4,
      "outputs": []
    },
    {
      "cell_type": "code",
      "metadata": {
        "id": "ey_agDF6m994",
        "colab_type": "code",
        "colab": {}
      },
      "source": [
        "model = keras.Sequential([\n",
        "  keras.layers.InputLayer(input_shape=(28, 28)),\n",
        "  keras.layers.Reshape(target_shape=(28, 28, 1)),\n",
        "  keras.layers.Conv2D(16, kernel_size=(3, 3), activation='relu'),\n",
        "  keras.layers.MaxPooling2D(2, 2),\n",
        "  keras.layers.Conv2D(32, kernel_size=(3, 3), activation='relu'),\n",
        "  keras.layers.MaxPooling2D(2, 2),\n",
        "  keras.layers.Flatten(),\n",
        "  keras.layers.Dense(10)\n",
        "])"
      ],
      "execution_count": 98,
      "outputs": []
    },
    {
      "cell_type": "code",
      "metadata": {
        "id": "EdTGk_gSm_io",
        "colab_type": "code",
        "colab": {}
      },
      "source": [
        "model.compile(optimizer='adam',  loss = tf.keras.losses.SparseCategoricalCrossentropy(from_logits=True),metrics=['accuracy'])"
      ],
      "execution_count": 99,
      "outputs": []
    },
    {
      "cell_type": "code",
      "metadata": {
        "id": "IWQ1ODrmnCly",
        "colab_type": "code",
        "colab": {
          "base_uri": "https://localhost:8080/",
          "height": 405
        },
        "outputId": "c61855fd-9b40-4831-f4fb-3e47999799fd"
      },
      "source": [
        "model.summary()"
      ],
      "execution_count": 100,
      "outputs": [
        {
          "output_type": "stream",
          "text": [
            "Model: \"sequential_9\"\n",
            "_________________________________________________________________\n",
            "Layer (type)                 Output Shape              Param #   \n",
            "=================================================================\n",
            "reshape_8 (Reshape)          (None, 28, 28, 1)         0         \n",
            "_________________________________________________________________\n",
            "conv2d_12 (Conv2D)           (None, 26, 26, 16)        160       \n",
            "_________________________________________________________________\n",
            "max_pooling2d_12 (MaxPooling (None, 13, 13, 16)        0         \n",
            "_________________________________________________________________\n",
            "conv2d_13 (Conv2D)           (None, 11, 11, 32)        4640      \n",
            "_________________________________________________________________\n",
            "max_pooling2d_13 (MaxPooling (None, 5, 5, 32)          0         \n",
            "_________________________________________________________________\n",
            "flatten_9 (Flatten)          (None, 800)               0         \n",
            "_________________________________________________________________\n",
            "dense_9 (Dense)              (None, 10)                8010      \n",
            "=================================================================\n",
            "Total params: 12,810\n",
            "Trainable params: 12,810\n",
            "Non-trainable params: 0\n",
            "_________________________________________________________________\n"
          ],
          "name": "stdout"
        }
      ]
    },
    {
      "cell_type": "code",
      "metadata": {
        "id": "1zi4j_A9nBPz",
        "colab_type": "code",
        "colab": {
          "base_uri": "https://localhost:8080/",
          "height": 176
        },
        "outputId": "f230193e-efb2-456d-f9f3-e927b6f26c3e"
      },
      "source": [
        "model.fit(train_images,train_labels,epochs=4,validation_split=0.2)"
      ],
      "execution_count": 101,
      "outputs": [
        {
          "output_type": "stream",
          "text": [
            "Epoch 1/4\n",
            "1500/1500 [==============================] - 6s 4ms/step - loss: 0.2276 - accuracy: 0.9322 - val_loss: 0.0864 - val_accuracy: 0.9739\n",
            "Epoch 2/4\n",
            "1500/1500 [==============================] - 6s 4ms/step - loss: 0.0758 - accuracy: 0.9757 - val_loss: 0.0638 - val_accuracy: 0.9816\n",
            "Epoch 3/4\n",
            "1500/1500 [==============================] - 6s 4ms/step - loss: 0.0568 - accuracy: 0.9828 - val_loss: 0.0802 - val_accuracy: 0.9760\n",
            "Epoch 4/4\n",
            "1500/1500 [==============================] - 6s 4ms/step - loss: 0.0486 - accuracy: 0.9847 - val_loss: 0.0539 - val_accuracy: 0.9838\n"
          ],
          "name": "stdout"
        },
        {
          "output_type": "execute_result",
          "data": {
            "text/plain": [
              "<tensorflow.python.keras.callbacks.History at 0x7f380471ee80>"
            ]
          },
          "metadata": {
            "tags": []
          },
          "execution_count": 101
        }
      ]
    },
    {
      "cell_type": "code",
      "metadata": {
        "id": "3ZpskBSSoBzy",
        "colab_type": "code",
        "colab": {
          "base_uri": "https://localhost:8080/",
          "height": 52
        },
        "outputId": "76bcc058-1f90-4ee1-cc93-5dc06baa45b1"
      },
      "source": [
        "_, base_test = model.evaluate(test_images, test_labels)\n",
        "print('base Test set accuracy:', base_test)"
      ],
      "execution_count": 102,
      "outputs": [
        {
          "output_type": "stream",
          "text": [
            "313/313 [==============================] - 1s 3ms/step - loss: 0.0413 - accuracy: 0.9874\n",
            "base Test set accuracy: 0.9873999953269958\n"
          ],
          "name": "stdout"
        }
      ]
    },
    {
      "cell_type": "code",
      "metadata": {
        "id": "OtwrLB_KoxYr",
        "colab_type": "code",
        "colab": {
          "base_uri": "https://localhost:8080/",
          "height": 34
        },
        "outputId": "a9c85bd3-5c8f-4919-9998-3c5c0cdd389a"
      },
      "source": [
        "_, keras_file = tempfile.mkstemp('.h5')\n",
        "tf.keras.models.save_model(model, keras_file)\n",
        "print('base model:', keras_file)"
      ],
      "execution_count": 103,
      "outputs": [
        {
          "output_type": "stream",
          "text": [
            "base model: /tmp/tmp5j90ybxu.h5\n"
          ],
          "name": "stdout"
        }
      ]
    },
    {
      "cell_type": "code",
      "metadata": {
        "id": "9GwBMQdyo9ho",
        "colab_type": "code",
        "colab": {}
      },
      "source": [
        ""
      ],
      "execution_count": 103,
      "outputs": []
    },
    {
      "cell_type": "markdown",
      "metadata": {
        "id": "-76bQCfEpgOZ",
        "colab_type": "text"
      },
      "source": [
        "#Pruning Begins!"
      ]
    },
    {
      "cell_type": "code",
      "metadata": {
        "id": "mSPBf8dFpsaj",
        "colab_type": "code",
        "colab": {
          "base_uri": "https://localhost:8080/",
          "height": 87
        },
        "outputId": "09ae9365-f6a4-4b62-abbb-f1701981d012"
      },
      "source": [
        "!pip install tensorflow_model_optimization"
      ],
      "execution_count": 82,
      "outputs": [
        {
          "output_type": "stream",
          "text": [
            "Requirement already satisfied: tensorflow_model_optimization in /usr/local/lib/python3.6/dist-packages (0.4.1)\n",
            "Requirement already satisfied: six~=1.10 in /usr/local/lib/python3.6/dist-packages (from tensorflow_model_optimization) (1.15.0)\n",
            "Requirement already satisfied: dm-tree~=0.1.1 in /usr/local/lib/python3.6/dist-packages (from tensorflow_model_optimization) (0.1.5)\n",
            "Requirement already satisfied: numpy~=1.14 in /usr/local/lib/python3.6/dist-packages (from tensorflow_model_optimization) (1.18.5)\n"
          ],
          "name": "stdout"
        }
      ]
    },
    {
      "cell_type": "code",
      "metadata": {
        "id": "TihZ2CGBph6o",
        "colab_type": "code",
        "colab": {}
      },
      "source": [
        "import tensorflow_model_optimization as tfmot"
      ],
      "execution_count": 28,
      "outputs": []
    },
    {
      "cell_type": "code",
      "metadata": {
        "id": "7SlwJv_3pn7s",
        "colab_type": "code",
        "colab": {}
      },
      "source": [
        "prune_low_magnitude = tfmot.sparsity.keras.prune_low_magnitude\n",
        "\n",
        "batch_size = 128\n",
        "epochs = 2\n",
        "validation_split = 0.2 "
      ],
      "execution_count": 105,
      "outputs": []
    },
    {
      "cell_type": "code",
      "metadata": {
        "id": "rilnofBhwfJr",
        "colab_type": "code",
        "colab": {
          "base_uri": "https://localhost:8080/",
          "height": 34
        },
        "outputId": "98dcd440-51b0-4a4c-f0a9-660562808a90"
      },
      "source": [
        "train_images.shape"
      ],
      "execution_count": 106,
      "outputs": [
        {
          "output_type": "execute_result",
          "data": {
            "text/plain": [
              "(60000, 28, 28)"
            ]
          },
          "metadata": {
            "tags": []
          },
          "execution_count": 106
        }
      ]
    },
    {
      "cell_type": "code",
      "metadata": {
        "id": "LlnPs8H0wVMX",
        "colab_type": "code",
        "colab": {}
      },
      "source": [
        "num_images = train_images.shape[0] * (1 - validation_split) # 48,000 num_images\n",
        "end_step = int(num_images / batch_size) * epochs"
      ],
      "execution_count": 114,
      "outputs": []
    },
    {
      "cell_type": "markdown",
      "metadata": {
        "id": "r9_QzT61xuly",
        "colab_type": "text"
      },
      "source": [
        "### Pruning with 50% zeroes in weights"
      ]
    },
    {
      "cell_type": "code",
      "metadata": {
        "id": "fF7Ikdwlp-Kq",
        "colab_type": "code",
        "colab": {}
      },
      "source": [
        "pruning_params_1 = {\n",
        "      'pruning_schedule': tfmot.sparsity.keras.PolynomialDecay(initial_sparsity=0.50,\n",
        "                                                               final_sparsity=0.80,\n",
        "                                                               begin_step=0,\n",
        "                                                               end_step=end_step)\n",
        "}\n",
        "\n",
        "pruning_model_1 = prune_low_magnitude(model, **pruning_params_1)\n"
      ],
      "execution_count": 122,
      "outputs": []
    },
    {
      "cell_type": "code",
      "metadata": {
        "id": "eN_0CfXEqA2m",
        "colab_type": "code",
        "colab": {
          "base_uri": "https://localhost:8080/",
          "height": 405
        },
        "outputId": "e5fa309b-4127-427e-81ae-0c18a0cdaf8b"
      },
      "source": [
        "pruning_model_1.compile(optimizer='adam',loss=tf.keras.losses.SparseCategoricalCrossentropy(from_logits=True),metrics=['accuracy'])\n",
        "      \n",
        "pruning_model_1.summary()"
      ],
      "execution_count": 123,
      "outputs": [
        {
          "output_type": "stream",
          "text": [
            "Model: \"sequential_9\"\n",
            "_________________________________________________________________\n",
            "Layer (type)                 Output Shape              Param #   \n",
            "=================================================================\n",
            "prune_low_magnitude_reshape_ (None, 28, 28, 1)         1         \n",
            "_________________________________________________________________\n",
            "prune_low_magnitude_conv2d_1 (None, 26, 26, 16)        306       \n",
            "_________________________________________________________________\n",
            "prune_low_magnitude_max_pool (None, 13, 13, 16)        1         \n",
            "_________________________________________________________________\n",
            "prune_low_magnitude_conv2d_1 (None, 11, 11, 32)        9250      \n",
            "_________________________________________________________________\n",
            "prune_low_magnitude_max_pool (None, 5, 5, 32)          1         \n",
            "_________________________________________________________________\n",
            "prune_low_magnitude_flatten_ (None, 800)               1         \n",
            "_________________________________________________________________\n",
            "prune_low_magnitude_dense_9  (None, 10)                16012     \n",
            "=================================================================\n",
            "Total params: 25,572\n",
            "Trainable params: 12,810\n",
            "Non-trainable params: 12,762\n",
            "_________________________________________________________________\n"
          ],
          "name": "stdout"
        }
      ]
    },
    {
      "cell_type": "code",
      "metadata": {
        "id": "r2vHvFqSqBmo",
        "colab_type": "code",
        "colab": {
          "base_uri": "https://localhost:8080/",
          "height": 143
        },
        "outputId": "abffcf85-68e8-430b-f029-73141f526856"
      },
      "source": [
        "logdir = tempfile.mkdtemp()\n",
        "\n",
        "callbacks = [\n",
        "  tfmot.sparsity.keras.UpdatePruningStep(),\n",
        "  tfmot.sparsity.keras.PruningSummaries(log_dir=logdir),\n",
        "]\n",
        "  \n",
        "pruning_model_1.fit(train_images, train_labels,batch_size=batch_size, epochs=epochs, validation_split=validation_split,callbacks=callbacks)"
      ],
      "execution_count": 124,
      "outputs": [
        {
          "output_type": "stream",
          "text": [
            "Epoch 1/2\n",
            "  2/375 [..............................] - ETA: 23s - loss: 0.0945 - accuracy: 0.9766WARNING:tensorflow:Callbacks method `on_train_batch_end` is slow compared to the batch time (batch time: 0.0138s vs `on_train_batch_end` time: 0.1055s). Check your callbacks.\n",
            "375/375 [==============================] - 5s 14ms/step - loss: 0.0452 - accuracy: 0.9864 - val_loss: 0.0537 - val_accuracy: 0.9847\n",
            "Epoch 2/2\n",
            "375/375 [==============================] - 5s 14ms/step - loss: 0.0403 - accuracy: 0.9875 - val_loss: 0.0544 - val_accuracy: 0.9843\n"
          ],
          "name": "stdout"
        },
        {
          "output_type": "execute_result",
          "data": {
            "text/plain": [
              "<tensorflow.python.keras.callbacks.History at 0x7f3801094278>"
            ]
          },
          "metadata": {
            "tags": []
          },
          "execution_count": 124
        }
      ]
    },
    {
      "cell_type": "code",
      "metadata": {
        "id": "ryMCTTO_qeii",
        "colab_type": "code",
        "colab": {
          "base_uri": "https://localhost:8080/",
          "height": 70
        },
        "outputId": "b95e557f-b076-482e-9278-be90e94f704e"
      },
      "source": [
        "_, pruning_model_1_accuracy = pruning_model_1.evaluate(test_images, test_labels)\n",
        "\n",
        "print('base test accuracy:', base_test) \n",
        "print('Pruned model 1 test accuracy:', pruning_model_1_accuracy)"
      ],
      "execution_count": 128,
      "outputs": [
        {
          "output_type": "stream",
          "text": [
            "313/313 [==============================] - 1s 3ms/step - loss: 0.0455 - accuracy: 0.9851\n",
            "base test accuracy: 0.9873999953269958\n",
            "Pruned model 1 test accuracy: 0.9850999712944031\n"
          ],
          "name": "stdout"
        }
      ]
    },
    {
      "cell_type": "code",
      "metadata": {
        "id": "Td4LOhtxsAKD",
        "colab_type": "code",
        "colab": {}
      },
      "source": [
        "model_for_export = tfmot.sparsity.keras.strip_pruning(pruning_model_1)"
      ],
      "execution_count": 130,
      "outputs": []
    },
    {
      "cell_type": "code",
      "metadata": {
        "id": "fUQkLS3IsKZE",
        "colab_type": "code",
        "colab": {
          "base_uri": "https://localhost:8080/",
          "height": 34
        },
        "outputId": "44bb30dc-b76a-4f92-b799-9202459693d4"
      },
      "source": [
        "_, pruned_model_1_keras_file = tempfile.mkstemp('.h5')\n",
        "tf.keras.models.save_model(model_for_export, pruned_model_1_keras_file)\n",
        "print('Saved pruned model 1 to:', pruned_model_1_keras_file)"
      ],
      "execution_count": 131,
      "outputs": [
        {
          "output_type": "stream",
          "text": [
            "Saved pruned model 1 to: /tmp/tmpw0g2yc09.h5\n"
          ],
          "name": "stdout"
        }
      ]
    },
    {
      "cell_type": "code",
      "metadata": {
        "id": "BxGB4OfXsnBB",
        "colab_type": "code",
        "colab": {}
      },
      "source": [
        "def zip_model(file):\n",
        "  temp, zip_file = tempfile.mkstemp('.zip')\n",
        "  with zipfile.ZipFile(zip_file, 'w', compression=zipfile.ZIP_DEFLATED) as f:\n",
        "    f.write(file)\n",
        "\n",
        "  return os.path.getsize(zip_file)"
      ],
      "execution_count": 95,
      "outputs": []
    },
    {
      "cell_type": "code",
      "metadata": {
        "id": "df0FVlaAs-yA",
        "colab_type": "code",
        "colab": {
          "base_uri": "https://localhost:8080/",
          "height": 52
        },
        "outputId": "9192ec39-6fee-4f7f-a1b3-2a4a4a8cb000"
      },
      "source": [
        "print(\"Size of base model: %.2f bytes\" % (zip_model(keras_file)))\n",
        "print(\"Size of pruned model: %.2f bytes\" % (zip_model(pruned_model_1_keras_file)))"
      ],
      "execution_count": 132,
      "outputs": [
        {
          "output_type": "stream",
          "text": [
            "Size of base model: 147786.00 bytes\n",
            "Size of pruned model: 17432.00 bytes\n"
          ],
          "name": "stdout"
        }
      ]
    },
    {
      "cell_type": "markdown",
      "metadata": {
        "id": "7dAwGMZ9x6fe",
        "colab_type": "text"
      },
      "source": [
        "### Pruning with 30% zero weights"
      ]
    },
    {
      "cell_type": "code",
      "metadata": {
        "id": "GsDqisaAx82x",
        "colab_type": "code",
        "colab": {}
      },
      "source": [
        "pruning_params_2 = {\n",
        "      'pruning_schedule': tfmot.sparsity.keras.PolynomialDecay(initial_sparsity=0.30,\n",
        "                                                               final_sparsity=0.80,\n",
        "                                                               begin_step=0,\n",
        "                                                               end_step=end_step)\n",
        "}\n",
        "\n",
        "pruning_model_2 = prune_low_magnitude(model, **pruning_params_2)\n"
      ],
      "execution_count": 133,
      "outputs": []
    },
    {
      "cell_type": "code",
      "metadata": {
        "id": "HBF9mRq5yDjw",
        "colab_type": "code",
        "colab": {
          "base_uri": "https://localhost:8080/",
          "height": 405
        },
        "outputId": "32a721d3-fc81-4c6d-b82a-b24e41476052"
      },
      "source": [
        "pruning_model_2.compile(optimizer='adam',loss=tf.keras.losses.SparseCategoricalCrossentropy(from_logits=True),metrics=['accuracy'])\n",
        "      \n",
        "pruning_model_2.summary()"
      ],
      "execution_count": 136,
      "outputs": [
        {
          "output_type": "stream",
          "text": [
            "Model: \"sequential_9\"\n",
            "_________________________________________________________________\n",
            "Layer (type)                 Output Shape              Param #   \n",
            "=================================================================\n",
            "prune_low_magnitude_reshape_ (None, 28, 28, 1)         1         \n",
            "_________________________________________________________________\n",
            "prune_low_magnitude_conv2d_1 (None, 26, 26, 16)        306       \n",
            "_________________________________________________________________\n",
            "prune_low_magnitude_max_pool (None, 13, 13, 16)        1         \n",
            "_________________________________________________________________\n",
            "prune_low_magnitude_conv2d_1 (None, 11, 11, 32)        9250      \n",
            "_________________________________________________________________\n",
            "prune_low_magnitude_max_pool (None, 5, 5, 32)          1         \n",
            "_________________________________________________________________\n",
            "prune_low_magnitude_flatten_ (None, 800)               1         \n",
            "_________________________________________________________________\n",
            "prune_low_magnitude_dense_9  (None, 10)                16012     \n",
            "=================================================================\n",
            "Total params: 25,572\n",
            "Trainable params: 12,810\n",
            "Non-trainable params: 12,762\n",
            "_________________________________________________________________\n"
          ],
          "name": "stdout"
        }
      ]
    },
    {
      "cell_type": "code",
      "metadata": {
        "id": "HfE7fIpsyIKd",
        "colab_type": "code",
        "colab": {
          "base_uri": "https://localhost:8080/",
          "height": 143
        },
        "outputId": "5079d5b9-ff71-4b43-f985-6d30fd54258a"
      },
      "source": [
        "logdir = tempfile.mkdtemp()\n",
        "\n",
        "callbacks = [\n",
        "  tfmot.sparsity.keras.UpdatePruningStep(),\n",
        "  tfmot.sparsity.keras.PruningSummaries(log_dir=logdir),\n",
        "]\n",
        "  \n",
        "pruning_model_2.fit(train_images, train_labels,batch_size=batch_size, epochs=epochs, validation_split=validation_split,callbacks=callbacks)"
      ],
      "execution_count": 137,
      "outputs": [
        {
          "output_type": "stream",
          "text": [
            "Epoch 1/2\n",
            "  2/375 [..............................] - ETA: 22s - loss: 0.0462 - accuracy: 0.9922WARNING:tensorflow:Callbacks method `on_train_batch_end` is slow compared to the batch time (batch time: 0.0136s vs `on_train_batch_end` time: 0.0997s). Check your callbacks.\n",
            "375/375 [==============================] - 5s 14ms/step - loss: 0.0396 - accuracy: 0.9876 - val_loss: 0.0518 - val_accuracy: 0.9847\n",
            "Epoch 2/2\n",
            "375/375 [==============================] - 5s 13ms/step - loss: 0.0354 - accuracy: 0.9893 - val_loss: 0.0546 - val_accuracy: 0.9841\n"
          ],
          "name": "stdout"
        },
        {
          "output_type": "execute_result",
          "data": {
            "text/plain": [
              "<tensorflow.python.keras.callbacks.History at 0x7f380313ac88>"
            ]
          },
          "metadata": {
            "tags": []
          },
          "execution_count": 137
        }
      ]
    },
    {
      "cell_type": "code",
      "metadata": {
        "id": "Z9Vy6hrSySkC",
        "colab_type": "code",
        "colab": {
          "base_uri": "https://localhost:8080/",
          "height": 70
        },
        "outputId": "2eb1810c-30c7-494a-8c1b-d070471f0788"
      },
      "source": [
        "_, pruning_model_2_accuracy = pruning_model_2.evaluate(test_images, test_labels)\n",
        "\n",
        "print('base test accuracy:', base_test) \n",
        "print('Pruned test accuracy:', pruning_model_2_accuracy)"
      ],
      "execution_count": 138,
      "outputs": [
        {
          "output_type": "stream",
          "text": [
            "313/313 [==============================] - 1s 3ms/step - loss: 0.0450 - accuracy: 0.9856\n",
            "base test accuracy: 0.9873999953269958\n",
            "Pruned test accuracy: 0.9855999946594238\n"
          ],
          "name": "stdout"
        }
      ]
    },
    {
      "cell_type": "code",
      "metadata": {
        "id": "huVbqBXtyU8F",
        "colab_type": "code",
        "colab": {}
      },
      "source": [
        "model_for_export = tfmot.sparsity.keras.strip_pruning(pruning_model_2)"
      ],
      "execution_count": 139,
      "outputs": []
    },
    {
      "cell_type": "code",
      "metadata": {
        "id": "tCNKAq2Hyc4d",
        "colab_type": "code",
        "colab": {
          "base_uri": "https://localhost:8080/",
          "height": 34
        },
        "outputId": "9c16fa91-6fcf-4679-a168-0b4f938e610d"
      },
      "source": [
        "_, pruned_model_2_keras_file = tempfile.mkstemp('.h5')\n",
        "tf.keras.models.save_model(model_for_export, pruned_model_2_keras_file)\n",
        "print('Saved pruned Keras model to:', pruned_model_2_keras_file)"
      ],
      "execution_count": 140,
      "outputs": [
        {
          "output_type": "stream",
          "text": [
            "Saved pruned Keras model to: /tmp/tmpcyh8g_b6.h5\n"
          ],
          "name": "stdout"
        }
      ]
    },
    {
      "cell_type": "code",
      "metadata": {
        "id": "2IDZj9W2ylCv",
        "colab_type": "code",
        "colab": {
          "base_uri": "https://localhost:8080/",
          "height": 70
        },
        "outputId": "0d85c12d-fe30-4db7-e7a0-b952bbf079c3"
      },
      "source": [
        "print(\"Size of base model: %.2f bytes\" % (zip_model(keras_file)))\n",
        "print(\"Size of pruned model_1: %.2f bytes\" % (zip_model(pruned_model_1_keras_file)))\n",
        "print(\"Size of pruned model_2: %.2f bytes\" % (zip_model(pruned_model_2_keras_file)))\n"
      ],
      "execution_count": 141,
      "outputs": [
        {
          "output_type": "stream",
          "text": [
            "Size of base model: 147786.00 bytes\n",
            "Size of pruned model_1: 17432.00 bytes\n",
            "Size of pruned model_2: 17361.00 bytes\n"
          ],
          "name": "stdout"
        }
      ]
    },
    {
      "cell_type": "code",
      "metadata": {
        "id": "lBIwW_CLzvWi",
        "colab_type": "code",
        "colab": {}
      },
      "source": [
        ""
      ],
      "execution_count": null,
      "outputs": []
    }
  ]
}